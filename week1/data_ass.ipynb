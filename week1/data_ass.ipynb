{
 "cells": [
  {
   "cell_type": "markdown",
   "metadata": {},
   "source": [
    "1\n",
    "    structure type is structured\n",
    "    value type is quantitative\n",
    "    source type is secondary data\n",
    "\n",
    "2\n",
    "    structure type is semi-structured\n",
    "    value type is quantitative\n",
    "    source type is primary\n",
    "3\n",
    "    structure type is structured\n",
    "    value type is qualitative\n",
    "    source type is primary\n",
    "4\n",
    "    structure type is structured\n",
    "    value type is quantitative\n",
    "    source type is secondary data\n",
    "5\n",
    "   structure type is semi-structured\n",
    "    value type is quantitative\n",
    "    source type is secondary data "
   ]
  }
 ],
 "metadata": {
  "language_info": {
   "name": "python"
  }
 },
 "nbformat": 4,
 "nbformat_minor": 2
}
